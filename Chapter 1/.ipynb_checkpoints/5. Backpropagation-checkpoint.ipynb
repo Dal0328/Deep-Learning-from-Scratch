{
 "cells": [
  {
   "cell_type": "markdown",
   "id": "6440ea2c",
   "metadata": {},
   "source": [
    "# 5. Backpropagation\n",
    "수치 미분은 구현하기에는 단순하지만 계산 시간이 오래 걸린다는 단점이 있다.\n",
    "\n",
    "## 5.1 Computational Graph\n",
    "계산 과정을 그래프의 형태로 표현한다. 각 노드에는 계산 방법을, 각 엣지에는 계산할 것을 작성한다. 일반적인 계산 과정을 **forward propagation**이라 한다.\n",
    "\n",
    "## 5.3 Backpropagation\n",
    "\n",
    "### 5.3.1 덧셈 노드의 역전파\n",
    "$z = x + y$라는 수식이 있다고 가정해보자. $dz \\over dx$는 1이다.\n",
    "\n",
    "$$ \\frac{dL}{dx} = \\frac{dL}{dz}\\frac{dz}{dx} = \\frac{dL}{dz}$$\n",
    "\n",
    "### 5.3.2 곱셈 노드의 역전파\n",
    "$z = xy$라는 수식이 있다고 가정해보자. $dz \\over dx$는 $y$이다.\n",
    "\n",
    "$$ \\frac{dL}{dx} = \\frac{dL}{dz}\\frac{dz}{dx} = y\\frac{dL}{dz}$$"
   ]
  },
  {
   "cell_type": "markdown",
   "id": "483091a4",
   "metadata": {},
   "source": [
    "## 5.5 활성화 함수의 역전파\n",
    "\n",
    "### 5.5.1 ReLU 계층\n",
    "$$\\frac{dy}{dx} = \\begin{Bmatrix}1&(x \\gt 0) \\\\0&(x \\leq 0)\\\\ \\end{Bmatrix}$$\n",
    "\n",
    "### 5.5.2 Sigmoid 계층\n",
    "시그모이드 함수는 계산 그래프로 표현하면 다음과 같다.\n",
    "![sigmoid_backpropagation](./image/sigmoid_backpropagation.png)\n",
    "$$=\\frac{dL}{dy}y(1-y)$$"
   ]
  },
  {
   "cell_type": "markdown",
   "id": "5fafa8d9",
   "metadata": {},
   "source": [
    "\n",
    "## 5.6 Affine/Softmax 계층 구현하기\n",
    "\n",
    "### 5.6.1 Affine 계층\n",
    "**Fully Connected Layer(Dense Layer)** 이라 부른다. 선형 변환에 편향을 더하는 연산을 수행하는 계층이다. 수식으로 표현하면 다음과 같다.\n",
    "$$ y = xW + b $$\n",
    "**두 행렬의 곱과 덧셈** 노드로 구성되어 있다. "
   ]
  }
 ],
 "metadata": {
  "kernelspec": {
   "display_name": "Python 3 (ipykernel)",
   "language": "python",
   "name": "python3"
  },
  "language_info": {
   "codemirror_mode": {
    "name": "ipython",
    "version": 3
   },
   "file_extension": ".py",
   "mimetype": "text/x-python",
   "name": "python",
   "nbconvert_exporter": "python",
   "pygments_lexer": "ipython3",
   "version": "3.8.12"
  }
 },
 "nbformat": 4,
 "nbformat_minor": 5
}
