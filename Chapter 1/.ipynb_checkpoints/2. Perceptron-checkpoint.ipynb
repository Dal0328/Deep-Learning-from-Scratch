{
 "cells": [
  {
   "cell_type": "markdown",
   "id": "01c8abe7",
   "metadata": {},
   "source": [
    "# 2. Perceptron\n",
    "\n",
    "## 2.1 퍼셉트론이란?\n",
    "\n",
    "퍼셉트론은 **다수의 신호를 입력받아 하나의 신호를 출력**한다.\n",
    "- 뉴런/노드: 입력 신호, 출력 신호\n",
    "- 가중치($\\omega$): 저항을 의미하는 매개변수\n",
    "- 임계값($\\theta$): 출력 신호를 정하는 기준\n",
    "- 편향($b$)\n",
    "\n",
    "$$y = \\begin{Bmatrix}0&(\\omega_1x_1 + \\omega_2x_2 + b \\leq \\theta) \\\\1&(\\omega_1x_1 + \\omega_2x_2 + b \\gt \\theta)\\\\ \\end{Bmatrix}$$\n",
    "\n",
    "## 2.3 퍼셉트론 구현하기\n",
    "\n",
    "### 2.3.1 AND 게이트 구현하기"
   ]
  },
  {
   "cell_type": "code",
   "execution_count": 2,
   "id": "0119db78",
   "metadata": {},
   "outputs": [
    {
     "name": "stdout",
     "output_type": "stream",
     "text": [
      "ADD(1,1)의 결과는 1입니다.\n"
     ]
    }
   ],
   "source": [
    "import numpy as np\n",
    "\n",
    "def ADD(x1, x2):\n",
    "    x = np.array([x1, x2])\n",
    "    w = np.array([0.5, 0.5])\n",
    "    b = -0.7\n",
    "    \n",
    "    tmp = np.sum(w*x) + b\n",
    "    if tmp <= 0:\n",
    "        return 0\n",
    "    else:\n",
    "        return 1\n",
    "    \n",
    "y = ADD(1, 1)\n",
    "print(f\"ADD(1,1)의 결과는 {y}입니다.\")"
   ]
  },
  {
   "cell_type": "markdown",
   "id": "0792f64f",
   "metadata": {},
   "source": [
    "### 2.3.2 XOR 게이트 구현하기\n",
    "\n",
    "XOR 게이트는 **두 입력의 값이 다를 때 1을 출력**한다. 이를 가시화하면 아래 그래프와 같다."
   ]
  },
  {
   "cell_type": "code",
   "execution_count": 5,
   "id": "ecb6fb82",
   "metadata": {},
   "outputs": [
    {
     "data": {
      "image/png": "[encoded data removed]",
      "text/plain": [
       "<Figure size 432x288 with 1 Axes>"
      ]
     },
     "metadata": {
      "needs_background": "light"
     },
     "output_type": "display_data"
    }
   ],
   "source": [
    "import matplotlib.pyplot as plt\n",
    "\n",
    "x_0 = [[0, 1], [0,1]]\n",
    "x_1 = [[0, 1], [1, 0]]\n",
    "\n",
    "plt.scatter(x_0[0], x_0[1], marker='o')\n",
    "plt.scatter(x_1[0], x_1[1], marker='x')\n",
    "plt.xlabel('x1')\n",
    "plt.ylabel('x2')\n",
    "plt.show()"
   ]
  },
  {
   "cell_type": "markdown",
   "id": "41f699f2",
   "metadata": {},
   "source": [
    "위의 그래프에서 하나의 직선으로 o와 x를 나누는 영역을 만들어낼 수 없다. 퍼셉트론 하나를 가지고서는 **선형**영역밖에 표현할 수 없다. **비선형** 영역을 표현하기 위해서는 다층 퍼셉트론이 필요하다.\n",
    "\n",
    "## 2.5 다층 퍼셉트론\n",
    "\n",
    "```python\n",
    "def XOR(x1, x2):\n",
    "    s1 = NAND(x1, x2)\n",
    "    s2 = OR(x1, x2)\n",
    "    y = AND(s1, s2)\n",
    "    \n",
    "    return y\n",
    "```"
   ]
  }
 ],
 "metadata": {
  "kernelspec": {
   "display_name": "Python 3 (ipykernel)",
   "language": "python",
   "name": "python3"
  },
  "language_info": {
   "codemirror_mode": {
    "name": "ipython",
    "version": 3
   },
   "file_extension": ".py",
   "mimetype": "text/x-python",
   "name": "python",
   "nbconvert_exporter": "python",
   "pygments_lexer": "ipython3",
   "version": "3.8.12"
  }
 },
 "nbformat": 4,
 "nbformat_minor": 5
}
