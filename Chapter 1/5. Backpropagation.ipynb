{
 "cells": [
  {
   "cell_type": "markdown",
   "id": "7f48d90f",
   "metadata": {},
   "source": [
    "# 5. Backpropagation\n",
    "수치 미분은 구현하기에는 단순하지만 계산 시간이 오래 걸린다는 단점이 있다.\n",
    "\n",
    "## 5.1 Computational Graph\n",
    "계산 과정을 그래프의 형태로 표현한다. 각 노드에는 계산 방법을, 각 엣지에는 계산할 것을 작성한다. 일반적인 계산 과정을 **forward propagation**이라 한다.\n",
    "\n",
    "## 5.3 Backpropagation\n",
    "\n",
    "### 5.3.1 덧셈 노드의 역전파\n",
    "$z = x + y$라는 수식이 있다고 가정해보자. $dz \\over dx$는 1이다.\n",
    "\n",
    "$$ \\frac{dL}{dx} = \\frac{dL}{dz}\\frac{dz}{dx} = \\frac{dL}{dz}$$\n",
    "\n",
    "### 5.3.2 곱셈 노드의 역전파\n",
    "$z = xy$라는 수식이 있다고 가정해보자. $dz \\over dx$는 $y$이다.\n",
    "\n",
    "$$ \\frac{dL}{dx} = \\frac{dL}{dz}\\frac{dz}{dx} = y\\frac{dL}{dz}$$"
   ]
  },
  {
   "cell_type": "markdown",
   "id": "2f972439",
   "metadata": {},
   "source": [
    "## 5.5 활성화 함수의 역전파\n",
    "\n",
    "### 5.5.1 ReLU 계층\n",
    "$$\\frac{dy}{dx} = \\begin{Bmatrix}1&(x \\gt 0) \\\\0&(x \\leq 0)\\\\ \\end{Bmatrix}$$\n",
    "\n",
    "### 5.5.2 Sigmoid 계층\n",
    "시그모이드 함수는 계산 그래프로 표현하면 다음과 같다.\n",
    "![sigmoid_backpropagation](./image/sigmoid-backpropagation.png)\n",
    "$$=\\frac{dL}{dy}y(1-y)$$"
   ]
  },
  {
   "cell_type": "markdown",
   "id": "3249eab7",
   "metadata": {},
   "source": [
    "\n",
    "## 5.6 Affine/Softmax 계층 구현하기\n",
    "\n",
    "### 5.6.1 Affine 계층\n",
    "**Fully Connected Layer(Dense Layer)** 이라 부른다. 선형 변환에 편향을 더하는 연산을 수행하는 계층이다. 수식으로 표현하면 다음과 같다.\n",
    "$$ y = xW + b $$\n",
    "계산 그래프로 표현하면 다음과 같다.\n",
    "<img src=\"./image/affine-backpropagation.png\" width=\"400\" height=\"400\"/>\n",
    "입력과 출력, 가중치의 shape가 행렬의 곱셈에 의해 특정 규칙을 따른다는 것을 상기하면, 쉽게 식을 유도할 수 있다.\n",
    "$$\\frac{dL}{dX} = \\frac{dL}{dY}\\cdot W^T$$\n",
    "$$\\frac{dL}{dW} = X^T\\cdot\\frac{dL}{dY}$$\n",
    "$$\\frac{dL}{dB} = \\frac{dL}{dY}$$\n",
    "\n",
    "### 5.6.3 Softmax-with-Loss 계층\n",
    "마지막 Affine 계층으로부터 score을 얻고, 이를 softmax 계층에 넘겨준다. softmax 계층에서 각 클래스에 대한 확률을 계산하고, cross entropy error계층에서 이에 대한 손실 함수 값을 계산한다.\n",
    "\n",
    "이때, softmax 계층의 역전파는 $y_k - t_k$라는 깔끔한 값을 내놓고 있다. 마찬가지로, 항등 함수의 손실 함수로 오차제곱합을 이용하면 역전파의 결과가 $y_k - t_k$이다. 이는 각 손실 함수들이 그렇게 역전파 값을 내놓도록 설계되었기 때문이다."
   ]
  }
 ],
 "metadata": {
  "kernelspec": {
   "display_name": "Python 3 (ipykernel)",
   "language": "python",
   "name": "python3"
  },
  "language_info": {
   "codemirror_mode": {
    "name": "ipython",
    "version": 3
   },
   "file_extension": ".py",
   "mimetype": "text/x-python",
   "name": "python",
   "nbconvert_exporter": "python",
   "pygments_lexer": "ipython3",
   "version": "3.8.12"
  }
 },
 "nbformat": 4,
 "nbformat_minor": 5
}
